{
 "cells": [
  {
   "cell_type": "markdown",
   "metadata": {},
   "source": [
    "## 與google drive 連線"
   ]
  },
  {
   "cell_type": "code",
   "execution_count": null,
   "metadata": {},
   "outputs": [],
   "source": [
    "#先安裝授權 google drive 使用\n",
    "#點擊連結複製認證碼\n",
    "!apt-get install -y -qq software-properties-common python-software-properties module-init-tools\n",
    "!add-apt-repository -y ppa:alessandro-strada/ppa 2>&1 > /dev/null\n",
    "!apt-get update -qq 2>&1 > /dev/null\n",
    "!apt-get -y install -qq google-drive-ocamlfuse fuse\n",
    "from google.colab import auth\n",
    "auth.authenticate_user()\n",
    "from oauth2client.client import GoogleCredentials\n",
    "creds = GoogleCredentials.get_application_default()\n",
    "import getpass\n",
    "!google-drive-ocamlfuse -headless -id={creds.client_id} -secret={creds.client_secret} < /dev/null 2>&1 | grep URL\n",
    "vcode = getpass.getpass()\n",
    "!echo {vcode} | google-drive-ocamlfuse -headless -id={creds.client_id} -secret={creds.client_secret}\n"
   ]
  },
  {
   "cell_type": "code",
   "execution_count": null,
   "metadata": {},
   "outputs": [],
   "source": [
    "#在虛擬平台建立一個 google drive 接口\n",
    "\n",
    "!mkdir -p drive\n",
    "!google-drive-ocamlfuse drive"
   ]
  },
  {
   "cell_type": "markdown",
   "metadata": {},
   "source": [
    "## 安裝kaggle API"
   ]
  },
  {
   "cell_type": "code",
   "execution_count": null,
   "metadata": {},
   "outputs": [],
   "source": [
    "#記得先上傳kaggle.json 到google dirve的最外層\n",
    "!pip install kaggle"
   ]
  },
  {
   "cell_type": "code",
   "execution_count": null,
   "metadata": {},
   "outputs": [],
   "source": [
    "#匯入kaggle.json\n",
    "from googleapiclient.discovery import build\n",
    "import io, os\n",
    "from googleapiclient.http import MediaIoBaseDownload\n",
    "from google.colab import auth\n",
    "auth.authenticate_user()\n",
    "drive_service = build('drive', 'v3')\n",
    "results = drive_service.files().list(\n",
    "        q=\"name = 'kaggle.json'\", fields=\"files(id)\").execute()\n",
    "kaggle_api_key = results.get('files', [])\n",
    "filename = \"/content/.kaggle/kaggle.json\"\n",
    "os.makedirs(os.path.dirname(filename), exist_ok=True)\n",
    "request = drive_service.files().get_media(fileId=kaggle_api_key[0]['id'])\n",
    "fh = io.FileIO(filename, 'wb')\n",
    "downloader = MediaIoBaseDownload(fh, request)\n",
    "done = False\n",
    "while done is False:\n",
    "    status, done = downloader.next_chunk()\n",
    "    print(\"Download %d%%.\" % int(status.progress() * 100))\n",
    "os.chmod(filename, 600)"
   ]
  },
  {
   "cell_type": "code",
   "execution_count": null,
   "metadata": {},
   "outputs": [],
   "source": [
    "!mkdir ~/.kaggle\n",
    "!cp /content/.kaggle/kaggle.json ~/.kaggle/kaggle.json"
   ]
  },
  {
   "cell_type": "code",
   "execution_count": null,
   "metadata": {},
   "outputs": [],
   "source": [
    "#以上步驟完就可以操作kaggle api ， 簡易使用可參照另一份kaggle installation guide"
   ]
  },
  {
   "cell_type": "code",
   "execution_count": null,
   "metadata": {},
   "outputs": [],
   "source": [
    "# numpy and pandas for data manipulation\n",
    "import csv\n",
    "import numpy as np\n",
    "import pandas as pd\n",
    "\n",
    "# Suppress warnings\n",
    "import warnings\n",
    "warnings.filterwarnings('ignore')\n",
    "\n",
    "#plot\n",
    "%matplotlib inline\n",
    "import matplotlib.pyplot as plt\n",
    "import seaborn as sns\n",
    "\n",
    "# load package# load \n",
    "import pandas as pd\n",
    "import numpy as np\n",
    "import seaborn as sns\n",
    "from sklearn.tree import DecisionTreeClassifier\n",
    "from sklearn.cross_validation  import train_test_split\n",
    "from sklearn import metrics\n",
    "from sklearn import preprocessing\n",
    "import matplotlib.pyplot as plt\n",
    "from sklearn.model_selection import GridSearchCV\n",
    "import xgboost as XGBT\n",
    "import os\n"
   ]
  },
  {
   "cell_type": "code",
   "execution_count": null,
   "metadata": {},
   "outputs": [],
   "source": [
    "#下載data\n",
    "!kaggle competitions download -c esuntoygame2018 -p toygame   #(p是放置的地方，若原本不存在則會建立資料夾)"
   ]
  },
  {
   "cell_type": "code",
   "execution_count": null,
   "metadata": {},
   "outputs": [],
   "source": [
    "df=pd.read_csv(\"train.csv\", encoding=\"UTF8\")\n",
    "print (\"train datastet shape:\", df.shape)"
   ]
  },
  {
   "cell_type": "code",
   "execution_count": null,
   "metadata": {},
   "outputs": [],
   "source": [
    "#挑選重要變數\n",
    "correlations = df.corr()[\"Class\"].sort_values()\n",
    "correlations=pd.DataFrame(correlations)\n",
    "select=correlations[abs(correlations.iloc[:,0])>=0.00]"
   ]
  },
  {
   "cell_type": "code",
   "execution_count": null,
   "metadata": {},
   "outputs": [],
   "source": [
    "print (select) \n",
    "x_select=select.index.tolist()\n",
    "x_select.remove(\"Class\")\n",
    "print (x_select)"
   ]
  },
  {
   "cell_type": "code",
   "execution_count": null,
   "metadata": {},
   "outputs": [],
   "source": [
    "#建立建模ＸＹ\n",
    "x=df2[x_select] #選一定貢獻度的變數\n",
    "\n",
    "y=pd.DataFrame(df2['Class'])"
   ]
  },
  {
   "cell_type": "code",
   "execution_count": null,
   "metadata": {},
   "outputs": [],
   "source": [
    "#排除AMOUNT超過3000的樣本   （不排比較好）\n",
    "#df2=df[df[\"Amount\"]<3000]\n",
    "df2=df\n",
    "df2.info()"
   ]
  },
  {
   "cell_type": "code",
   "execution_count": null,
   "metadata": {},
   "outputs": [],
   "source": [
    "#分層抽樣\n",
    "Target=\"Class\"\n",
    "\n",
    "y_0len=int(len(y[y[Target]==1].Class.tolist()))\n",
    "save_0_x=pd.DataFrame.sample(x.iloc[np.where(y[Target]==0)],n=y_0len*100,replace=False,random_state=888)\n",
    "save_1_x=pd.DataFrame.sample(x.iloc[np.where(y[Target]==1)],n=int(y_0len*1.5),replace=True,random_state=888)\n",
    "\n",
    "save_0_y=pd.DataFrame.sample(y.iloc[np.where(y[Target]==0)],n=y_0len*100,replace=False,random_state=888)\n",
    "save_1_y=pd.DataFrame.sample(y.iloc[np.where(y[Target]==1)],n=int(y_0len*1.5),replace=True,random_state=888)\n",
    "\n",
    "temp_x=pd.DataFrame.append(save_1_x,save_0_x)\n",
    "temp_y=pd.DataFrame.append(save_1_y,save_0_y)\n",
    "\n",
    "print (y_0len)"
   ]
  },
  {
   "cell_type": "code",
   "execution_count": null,
   "metadata": {},
   "outputs": [],
   "source": [
    "#我的LGBMClassifier在colab上無法匯入 有點無解 "
   ]
  },
  {
   "cell_type": "code",
   "execution_count": null,
   "metadata": {},
   "outputs": [],
   "source": [
    "!git clone --recursive https://github.com/Microsoft/LightGBM ; cd LightGBM\n",
    "import os\n",
    "os.chdir('LightGBM')\n",
    "!mkdir build\n",
    "os.chdir('build')\n",
    "!apt-get install cmake\n",
    "!cmake ..\n",
    "!make -j4"
   ]
  },
  {
   "cell_type": "code",
   "execution_count": null,
   "metadata": {},
   "outputs": [],
   "source": [
    "import LightGbm as lgb\n",
    "from LightGbm import LGBMClassifier"
   ]
  },
  {
   "cell_type": "code",
   "execution_count": null,
   "metadata": {},
   "outputs": [],
   "source": [
    "LGBM_grid_final = lgb.LGBMClassifier()\n",
    "clf=LGBM_grid_final\n",
    "\n",
    "clf.fit(temp_x,temp_y)\n",
    "\n",
    "test_public=pd.read_csv(\"test_public.csv\", encoding=\"UTF8\")\n",
    "print (\"test datatest shape:\", test_public.shape)\n",
    "\n",
    "print (x_select)\n",
    "test_model=test_public[x_select]\n",
    "\n",
    "y_pred=clf.predict(test_model)\n",
    "print (y_pred)"
   ]
  },
  {
   "cell_type": "code",
   "execution_count": null,
   "metadata": {},
   "outputs": [],
   "source": [
    "# Grid Search\n",
    "print('Start training...')\n",
    "estimator = lgb.LGBMClassifier(objective = 'binary', n_estimators = 100, random_state=0)\n",
    "\n",
    "param_grid = {\n",
    "    'learning_rate': [0.3],\n",
    "    'num_leaves': [20],\n",
    "    'feature_fraction': [0.2,0.3,0.4] ,#[0.4,0.6,0.8] then 0.8,\n",
    "    'bagging_fraction': [0.005,0.01,0.02],#[0.01,0.02,0.03]then 0.1,\n",
    "    'max_depth':[6],#5,6],\n",
    "    'max_bin':[10],#15,20], \n",
    "    'lambda_l1':[0.4],#0.5,0.6],\n",
    "    'lambda_l2':[0.02],#0.03,0.04], \n",
    "    'min_split_gain':[0.05],#0.06,0.07],\n",
    "    'min_child_weight':[3]}#5,7]}#,5,7]\n",
    "\n",
    "LGBM_grid = GridSearchCV(estimator, param_grid)\n",
    "LGBM_grid.fit(temp_x, temp_y)\n",
    "print('Best parameters found by grid search are:', LGBM_grid.best_params_)\n",
    "\n",
    "# Final Model\n",
    "evals_result = {} \n",
    "print('Start predicting...')\n",
    "LGBM_grid_final = lgb.LGBMClassifier(objective = 'binary',\n",
    "                                      #learning_rate = 0.05, \n",
    "                                     learning_rate = LGBM_grid.best_params_['learning_rate'],\n",
    "                                     n_estimators = 100, \n",
    "                                     random_state=0,\n",
    "                              num_leaves = LGBM_grid.best_params_['num_leaves'],\n",
    "                                feature_fraction = LGBM_grid.best_params_['feature_fraction'], \n",
    "                              bagging_fraction = LGBM_grid.best_params_['bagging_fraction'],\n",
    "                             max_depth = LGBM_grid.best_params_['max_depth'],\n",
    "                              max_bin = LGBM_grid.best_params_['max_bin'],\n",
    "                              lambda_l1 = LGBM_grid.best_params_['lambda_l1'],\n",
    "                              lambda_l2 = LGBM_grid.best_params_['lambda_l2'],\n",
    "                            min_split_gain = LGBM_grid.best_params_['min_split_gain'],\n",
    "                            min_child_weight = LGBM_grid.best_params_['min_child_weight'])\n",
    "LGBM_grid_final_fit = LGBM_grid_final.fit(temp_x, temp_y)\n",
    "print('Predicting is over')"
   ]
  },
  {
   "cell_type": "code",
   "execution_count": null,
   "metadata": {},
   "outputs": [],
   "source": [
    "\n",
    "\n",
    "#! kaggle competitions submit -c esuntoygame2018 -f submit_to_kaggle.csv -m \"Message\"  "
   ]
  }
 ],
 "metadata": {
  "kernelspec": {
   "display_name": "Python 3",
   "language": "python",
   "name": "python3"
  },
  "language_info": {
   "codemirror_mode": {
    "name": "ipython",
    "version": 3
   },
   "file_extension": ".py",
   "mimetype": "text/x-python",
   "name": "python",
   "nbconvert_exporter": "python",
   "pygments_lexer": "ipython3",
   "version": "3.6.5"
  }
 },
 "nbformat": 4,
 "nbformat_minor": 2
}
