{
 "cells": [
  {
   "cell_type": "markdown",
   "metadata": {},
   "source": [
    "# kaggle api 安裝步驟 （本機）\n",
    "## Step 1  下載登入資訊\n",
    "#### 1. 到Kaggle ->My Account \n",
    "#### 2. Click and download \"Create New API token\" \n",
    "#### 3. 獲得一份 Kaggle.json\n",
    "## Step 2  創建 .kaggle 資料夾\n",
    "#### 1.開啟終端機 (位置在初始路徑通常為users/\"pc name\"，可輸入pwd確認)\n",
    "#### 2.輸入以下code"
   ]
  },
  {
   "cell_type": "code",
   "execution_count": null,
   "metadata": {},
   "outputs": [],
   "source": [
    "mkdir.kaggle"
   ]
  },
  {
   "cell_type": "markdown",
   "metadata": {},
   "source": [
    "## Step 3 移動至正確位置\n",
    "  (目標移動到  USERS/\"pc name\"/.kaggle/)\n",
    "\n",
    "#### 1. 找到kaggle.json 的位置（通常在下載區， hint:  cd Downloads /  LS 確認 )\n",
    "#### 2. 輸入以下code  "
   ]
  },
  {
   "cell_type": "code",
   "execution_count": null,
   "metadata": {},
   "outputs": [],
   "source": [
    "# 記得修正\"pc name\" ,  e.g. users/peggy/.kaggle)\n",
    "cp kaggle.json  users/\"pc name\"/.kaggle "
   ]
  },
  {
   "cell_type": "markdown",
   "metadata": {},
   "source": [
    "#### 3. ls 確認 kaggle.json 有沒有在資料夾中\n",
    "#### 4. 幫檔案加密僅限本電腦帳號可取用，輸入以下code "
   ]
  },
  {
   "cell_type": "code",
   "execution_count": null,
   "metadata": {},
   "outputs": [],
   "source": [
    "cd ..   #回上層\n",
    "\n",
    "chmod 600 ~/.kaggle/kaggle.json    #加密"
   ]
  },
  {
   "cell_type": "markdown",
   "metadata": {},
   "source": [
    "## Step 4 安裝kaggle\n",
    "### 1. 終端機執行"
   ]
  },
  {
   "cell_type": "code",
   "execution_count": null,
   "metadata": {},
   "outputs": [],
   "source": [
    "pip install kaggle"
   ]
  },
  {
   "cell_type": "markdown",
   "metadata": {},
   "source": [
    "### 2. 測試"
   ]
  },
  {
   "cell_type": "code",
   "execution_count": null,
   "metadata": {},
   "outputs": [],
   "source": [
    "kaggle competitions list"
   ]
  },
  {
   "cell_type": "markdown",
   "metadata": {},
   "source": [
    "## Step 5  開始使用，常見指令"
   ]
  },
  {
   "cell_type": "code",
   "execution_count": null,
   "metadata": {},
   "outputs": [],
   "source": [
    "#上傳submit 結果\n",
    "kaggle competitions submit -c esuntoygame2018 -f submission.csv -m \"寫上本次上傳的訊息\"\n",
    "\n",
    "#下載data \n",
    "kaggle competitions download -c esuntoygame2018   -p 指定路徑\n",
    "\n",
    "#在juputer notebook 上，指令式前要加 ！\n",
    "e.g.   !kaggle competitions submit -c esuntoygame2018 -f submission.csv -m \"初生之犢不畏虎\""
   ]
  }
 ],
 "metadata": {
  "kernelspec": {
   "display_name": "Python 3",
   "language": "python",
   "name": "python3"
  },
  "language_info": {
   "codemirror_mode": {
    "name": "ipython",
    "version": 3
   },
   "file_extension": ".py",
   "mimetype": "text/x-python",
   "name": "python",
   "nbconvert_exporter": "python",
   "pygments_lexer": "ipython3",
   "version": "3.6.5"
  }
 },
 "nbformat": 4,
 "nbformat_minor": 2
}
